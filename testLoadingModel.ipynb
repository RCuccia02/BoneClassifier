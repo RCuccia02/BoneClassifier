{
 "cells": [
  {
   "cell_type": "code",
   "execution_count": 2,
   "id": "08a09f91-9f57-4a59-8990-49e01e83b102",
   "metadata": {
    "collapsed": true,
    "jupyter": {
     "outputs_hidden": true
    },
    "scrolled": true
   },
   "outputs": [
    {
     "name": "stdout",
     "output_type": "stream",
     "text": [
      "Transferred 649/649 items from pretrained weights\n",
      "model.model.0.conv.weight\n",
      "model.model.0.bn.weight\n",
      "model.model.0.bn.bias\n",
      "model.model.1.conv.weight\n",
      "model.model.1.bn.weight\n",
      "model.model.1.bn.bias\n",
      "model.model.2.cv1.conv.weight\n",
      "model.model.2.cv1.bn.weight\n",
      "model.model.2.cv1.bn.bias\n",
      "model.model.2.cv2.conv.weight\n",
      "model.model.2.cv2.bn.weight\n",
      "model.model.2.cv2.bn.bias\n",
      "model.model.2.m.0.cv1.conv.weight\n",
      "model.model.2.m.0.cv1.bn.weight\n",
      "model.model.2.m.0.cv1.bn.bias\n",
      "model.model.2.m.0.cv2.conv.weight\n",
      "model.model.2.m.0.cv2.bn.weight\n",
      "model.model.2.m.0.cv2.bn.bias\n",
      "model.model.2.m.0.cv3.conv.weight\n",
      "model.model.2.m.0.cv3.bn.weight\n",
      "model.model.2.m.0.cv3.bn.bias\n",
      "model.model.2.m.0.m.0.cv1.conv.weight\n",
      "model.model.2.m.0.m.0.cv1.bn.weight\n",
      "model.model.2.m.0.m.0.cv1.bn.bias\n",
      "model.model.2.m.0.m.0.cv2.conv.weight\n",
      "model.model.2.m.0.m.0.cv2.bn.weight\n",
      "model.model.2.m.0.m.0.cv2.bn.bias\n",
      "model.model.2.m.0.m.1.cv1.conv.weight\n",
      "model.model.2.m.0.m.1.cv1.bn.weight\n",
      "model.model.2.m.0.m.1.cv1.bn.bias\n",
      "model.model.2.m.0.m.1.cv2.conv.weight\n",
      "model.model.2.m.0.m.1.cv2.bn.weight\n",
      "model.model.2.m.0.m.1.cv2.bn.bias\n",
      "model.model.3.conv.weight\n",
      "model.model.3.bn.weight\n",
      "model.model.3.bn.bias\n",
      "model.model.4.cv1.conv.weight\n",
      "model.model.4.cv1.bn.weight\n",
      "model.model.4.cv1.bn.bias\n",
      "model.model.4.cv2.conv.weight\n",
      "model.model.4.cv2.bn.weight\n",
      "model.model.4.cv2.bn.bias\n",
      "model.model.4.m.0.cv1.conv.weight\n",
      "model.model.4.m.0.cv1.bn.weight\n",
      "model.model.4.m.0.cv1.bn.bias\n",
      "model.model.4.m.0.cv2.conv.weight\n",
      "model.model.4.m.0.cv2.bn.weight\n",
      "model.model.4.m.0.cv2.bn.bias\n",
      "model.model.4.m.0.cv3.conv.weight\n",
      "model.model.4.m.0.cv3.bn.weight\n",
      "model.model.4.m.0.cv3.bn.bias\n",
      "model.model.4.m.0.m.0.cv1.conv.weight\n",
      "model.model.4.m.0.m.0.cv1.bn.weight\n",
      "model.model.4.m.0.m.0.cv1.bn.bias\n",
      "model.model.4.m.0.m.0.cv2.conv.weight\n",
      "model.model.4.m.0.m.0.cv2.bn.weight\n",
      "model.model.4.m.0.m.0.cv2.bn.bias\n",
      "model.model.4.m.0.m.1.cv1.conv.weight\n",
      "model.model.4.m.0.m.1.cv1.bn.weight\n",
      "model.model.4.m.0.m.1.cv1.bn.bias\n",
      "model.model.4.m.0.m.1.cv2.conv.weight\n",
      "model.model.4.m.0.m.1.cv2.bn.weight\n",
      "model.model.4.m.0.m.1.cv2.bn.bias\n",
      "model.model.5.conv.weight\n",
      "model.model.5.bn.weight\n",
      "model.model.5.bn.bias\n",
      "model.model.6.cv1.conv.weight\n",
      "model.model.6.cv1.bn.weight\n",
      "model.model.6.cv1.bn.bias\n",
      "model.model.6.cv2.conv.weight\n",
      "model.model.6.cv2.bn.weight\n",
      "model.model.6.cv2.bn.bias\n",
      "model.model.6.m.0.cv1.conv.weight\n",
      "model.model.6.m.0.cv1.bn.weight\n",
      "model.model.6.m.0.cv1.bn.bias\n",
      "model.model.6.m.0.cv2.conv.weight\n",
      "model.model.6.m.0.cv2.bn.weight\n",
      "model.model.6.m.0.cv2.bn.bias\n",
      "model.model.6.m.0.cv3.conv.weight\n",
      "model.model.6.m.0.cv3.bn.weight\n",
      "model.model.6.m.0.cv3.bn.bias\n",
      "model.model.6.m.0.m.0.cv1.conv.weight\n",
      "model.model.6.m.0.m.0.cv1.bn.weight\n",
      "model.model.6.m.0.m.0.cv1.bn.bias\n",
      "model.model.6.m.0.m.0.cv2.conv.weight\n",
      "model.model.6.m.0.m.0.cv2.bn.weight\n",
      "model.model.6.m.0.m.0.cv2.bn.bias\n",
      "model.model.6.m.0.m.1.cv1.conv.weight\n",
      "model.model.6.m.0.m.1.cv1.bn.weight\n",
      "model.model.6.m.0.m.1.cv1.bn.bias\n",
      "model.model.6.m.0.m.1.cv2.conv.weight\n",
      "model.model.6.m.0.m.1.cv2.bn.weight\n",
      "model.model.6.m.0.m.1.cv2.bn.bias\n",
      "model.model.7.conv.weight\n",
      "model.model.7.bn.weight\n",
      "model.model.7.bn.bias\n",
      "model.model.8.cv1.conv.weight\n",
      "model.model.8.cv1.bn.weight\n",
      "model.model.8.cv1.bn.bias\n",
      "model.model.8.cv2.conv.weight\n",
      "model.model.8.cv2.bn.weight\n",
      "model.model.8.cv2.bn.bias\n",
      "model.model.8.m.0.cv1.conv.weight\n",
      "model.model.8.m.0.cv1.bn.weight\n",
      "model.model.8.m.0.cv1.bn.bias\n",
      "model.model.8.m.0.cv2.conv.weight\n",
      "model.model.8.m.0.cv2.bn.weight\n",
      "model.model.8.m.0.cv2.bn.bias\n",
      "model.model.8.m.0.cv3.conv.weight\n",
      "model.model.8.m.0.cv3.bn.weight\n",
      "model.model.8.m.0.cv3.bn.bias\n",
      "model.model.8.m.0.m.0.cv1.conv.weight\n",
      "model.model.8.m.0.m.0.cv1.bn.weight\n",
      "model.model.8.m.0.m.0.cv1.bn.bias\n",
      "model.model.8.m.0.m.0.cv2.conv.weight\n",
      "model.model.8.m.0.m.0.cv2.bn.weight\n",
      "model.model.8.m.0.m.0.cv2.bn.bias\n",
      "model.model.8.m.0.m.1.cv1.conv.weight\n",
      "model.model.8.m.0.m.1.cv1.bn.weight\n",
      "model.model.8.m.0.m.1.cv1.bn.bias\n",
      "model.model.8.m.0.m.1.cv2.conv.weight\n",
      "model.model.8.m.0.m.1.cv2.bn.weight\n",
      "model.model.8.m.0.m.1.cv2.bn.bias\n",
      "model.model.9.cv1.conv.weight\n",
      "model.model.9.cv1.bn.weight\n",
      "model.model.9.cv1.bn.bias\n",
      "model.model.9.cv2.conv.weight\n",
      "model.model.9.cv2.bn.weight\n",
      "model.model.9.cv2.bn.bias\n",
      "model.model.10.cv1.conv.weight\n",
      "model.model.10.cv1.bn.weight\n",
      "model.model.10.cv1.bn.bias\n",
      "model.model.10.cv2.conv.weight\n",
      "model.model.10.cv2.bn.weight\n",
      "model.model.10.cv2.bn.bias\n",
      "model.model.10.m.0.attn.qkv.conv.weight\n",
      "model.model.10.m.0.attn.qkv.bn.weight\n",
      "model.model.10.m.0.attn.qkv.bn.bias\n",
      "model.model.10.m.0.attn.proj.conv.weight\n",
      "model.model.10.m.0.attn.proj.bn.weight\n",
      "model.model.10.m.0.attn.proj.bn.bias\n",
      "model.model.10.m.0.attn.pe.conv.weight\n",
      "model.model.10.m.0.attn.pe.bn.weight\n",
      "model.model.10.m.0.attn.pe.bn.bias\n",
      "model.model.10.m.0.ffn.0.conv.weight\n",
      "model.model.10.m.0.ffn.0.bn.weight\n",
      "model.model.10.m.0.ffn.0.bn.bias\n",
      "model.model.10.m.0.ffn.1.conv.weight\n",
      "model.model.10.m.0.ffn.1.bn.weight\n",
      "model.model.10.m.0.ffn.1.bn.bias\n",
      "model.model.13.cv1.conv.weight\n",
      "model.model.13.cv1.bn.weight\n",
      "model.model.13.cv1.bn.bias\n",
      "model.model.13.cv2.conv.weight\n",
      "model.model.13.cv2.bn.weight\n",
      "model.model.13.cv2.bn.bias\n",
      "model.model.13.m.0.cv1.conv.weight\n",
      "model.model.13.m.0.cv1.bn.weight\n",
      "model.model.13.m.0.cv1.bn.bias\n",
      "model.model.13.m.0.cv2.conv.weight\n",
      "model.model.13.m.0.cv2.bn.weight\n",
      "model.model.13.m.0.cv2.bn.bias\n",
      "model.model.13.m.0.cv3.conv.weight\n",
      "model.model.13.m.0.cv3.bn.weight\n",
      "model.model.13.m.0.cv3.bn.bias\n",
      "model.model.13.m.0.m.0.cv1.conv.weight\n",
      "model.model.13.m.0.m.0.cv1.bn.weight\n",
      "model.model.13.m.0.m.0.cv1.bn.bias\n",
      "model.model.13.m.0.m.0.cv2.conv.weight\n",
      "model.model.13.m.0.m.0.cv2.bn.weight\n",
      "model.model.13.m.0.m.0.cv2.bn.bias\n",
      "model.model.13.m.0.m.1.cv1.conv.weight\n",
      "model.model.13.m.0.m.1.cv1.bn.weight\n",
      "model.model.13.m.0.m.1.cv1.bn.bias\n",
      "model.model.13.m.0.m.1.cv2.conv.weight\n",
      "model.model.13.m.0.m.1.cv2.bn.weight\n",
      "model.model.13.m.0.m.1.cv2.bn.bias\n",
      "model.model.16.cv1.conv.weight\n",
      "model.model.16.cv1.bn.weight\n",
      "model.model.16.cv1.bn.bias\n",
      "model.model.16.cv2.conv.weight\n",
      "model.model.16.cv2.bn.weight\n",
      "model.model.16.cv2.bn.bias\n",
      "model.model.16.m.0.cv1.conv.weight\n",
      "model.model.16.m.0.cv1.bn.weight\n",
      "model.model.16.m.0.cv1.bn.bias\n",
      "model.model.16.m.0.cv2.conv.weight\n",
      "model.model.16.m.0.cv2.bn.weight\n",
      "model.model.16.m.0.cv2.bn.bias\n",
      "model.model.16.m.0.cv3.conv.weight\n",
      "model.model.16.m.0.cv3.bn.weight\n",
      "model.model.16.m.0.cv3.bn.bias\n",
      "model.model.16.m.0.m.0.cv1.conv.weight\n",
      "model.model.16.m.0.m.0.cv1.bn.weight\n",
      "model.model.16.m.0.m.0.cv1.bn.bias\n",
      "model.model.16.m.0.m.0.cv2.conv.weight\n",
      "model.model.16.m.0.m.0.cv2.bn.weight\n",
      "model.model.16.m.0.m.0.cv2.bn.bias\n",
      "model.model.16.m.0.m.1.cv1.conv.weight\n",
      "model.model.16.m.0.m.1.cv1.bn.weight\n",
      "model.model.16.m.0.m.1.cv1.bn.bias\n",
      "model.model.16.m.0.m.1.cv2.conv.weight\n",
      "model.model.16.m.0.m.1.cv2.bn.weight\n",
      "model.model.16.m.0.m.1.cv2.bn.bias\n",
      "model.model.17.conv.weight\n",
      "model.model.17.bn.weight\n",
      "model.model.17.bn.bias\n",
      "model.model.19.cv1.conv.weight\n",
      "model.model.19.cv1.bn.weight\n",
      "model.model.19.cv1.bn.bias\n",
      "model.model.19.cv2.conv.weight\n",
      "model.model.19.cv2.bn.weight\n",
      "model.model.19.cv2.bn.bias\n",
      "model.model.19.m.0.cv1.conv.weight\n",
      "model.model.19.m.0.cv1.bn.weight\n",
      "model.model.19.m.0.cv1.bn.bias\n",
      "model.model.19.m.0.cv2.conv.weight\n",
      "model.model.19.m.0.cv2.bn.weight\n",
      "model.model.19.m.0.cv2.bn.bias\n",
      "model.model.19.m.0.cv3.conv.weight\n",
      "model.model.19.m.0.cv3.bn.weight\n",
      "model.model.19.m.0.cv3.bn.bias\n",
      "model.model.19.m.0.m.0.cv1.conv.weight\n",
      "model.model.19.m.0.m.0.cv1.bn.weight\n",
      "model.model.19.m.0.m.0.cv1.bn.bias\n",
      "model.model.19.m.0.m.0.cv2.conv.weight\n",
      "model.model.19.m.0.m.0.cv2.bn.weight\n",
      "model.model.19.m.0.m.0.cv2.bn.bias\n",
      "model.model.19.m.0.m.1.cv1.conv.weight\n",
      "model.model.19.m.0.m.1.cv1.bn.weight\n",
      "model.model.19.m.0.m.1.cv1.bn.bias\n",
      "model.model.19.m.0.m.1.cv2.conv.weight\n",
      "model.model.19.m.0.m.1.cv2.bn.weight\n",
      "model.model.19.m.0.m.1.cv2.bn.bias\n",
      "model.model.20.conv.weight\n",
      "model.model.20.bn.weight\n",
      "model.model.20.bn.bias\n",
      "model.model.22.cv1.conv.weight\n",
      "model.model.22.cv1.bn.weight\n",
      "model.model.22.cv1.bn.bias\n",
      "model.model.22.cv2.conv.weight\n",
      "model.model.22.cv2.bn.weight\n",
      "model.model.22.cv2.bn.bias\n",
      "model.model.22.m.0.cv1.conv.weight\n",
      "model.model.22.m.0.cv1.bn.weight\n",
      "model.model.22.m.0.cv1.bn.bias\n",
      "model.model.22.m.0.cv2.conv.weight\n",
      "model.model.22.m.0.cv2.bn.weight\n",
      "model.model.22.m.0.cv2.bn.bias\n",
      "model.model.22.m.0.cv3.conv.weight\n",
      "model.model.22.m.0.cv3.bn.weight\n",
      "model.model.22.m.0.cv3.bn.bias\n",
      "model.model.22.m.0.m.0.cv1.conv.weight\n",
      "model.model.22.m.0.m.0.cv1.bn.weight\n",
      "model.model.22.m.0.m.0.cv1.bn.bias\n",
      "model.model.22.m.0.m.0.cv2.conv.weight\n",
      "model.model.22.m.0.m.0.cv2.bn.weight\n",
      "model.model.22.m.0.m.0.cv2.bn.bias\n",
      "model.model.22.m.0.m.1.cv1.conv.weight\n",
      "model.model.22.m.0.m.1.cv1.bn.weight\n",
      "model.model.22.m.0.m.1.cv1.bn.bias\n",
      "model.model.22.m.0.m.1.cv2.conv.weight\n",
      "model.model.22.m.0.m.1.cv2.bn.weight\n",
      "model.model.22.m.0.m.1.cv2.bn.bias\n",
      "model.model.23.cv2.0.0.conv.weight\n",
      "model.model.23.cv2.0.0.bn.weight\n",
      "model.model.23.cv2.0.0.bn.bias\n",
      "model.model.23.cv2.0.1.conv.weight\n",
      "model.model.23.cv2.0.1.bn.weight\n",
      "model.model.23.cv2.0.1.bn.bias\n",
      "model.model.23.cv2.0.2.weight\n",
      "model.model.23.cv2.0.2.bias\n",
      "model.model.23.cv2.1.0.conv.weight\n",
      "model.model.23.cv2.1.0.bn.weight\n",
      "model.model.23.cv2.1.0.bn.bias\n",
      "model.model.23.cv2.1.1.conv.weight\n",
      "model.model.23.cv2.1.1.bn.weight\n",
      "model.model.23.cv2.1.1.bn.bias\n",
      "model.model.23.cv2.1.2.weight\n",
      "model.model.23.cv2.1.2.bias\n",
      "model.model.23.cv2.2.0.conv.weight\n",
      "model.model.23.cv2.2.0.bn.weight\n",
      "model.model.23.cv2.2.0.bn.bias\n",
      "model.model.23.cv2.2.1.conv.weight\n",
      "model.model.23.cv2.2.1.bn.weight\n",
      "model.model.23.cv2.2.1.bn.bias\n",
      "model.model.23.cv2.2.2.weight\n",
      "model.model.23.cv2.2.2.bias\n",
      "model.model.23.cv3.0.0.0.conv.weight\n",
      "model.model.23.cv3.0.0.0.bn.weight\n",
      "model.model.23.cv3.0.0.0.bn.bias\n",
      "model.model.23.cv3.0.0.1.conv.weight\n",
      "model.model.23.cv3.0.0.1.bn.weight\n",
      "model.model.23.cv3.0.0.1.bn.bias\n",
      "model.model.23.cv3.0.1.0.conv.weight\n",
      "model.model.23.cv3.0.1.0.bn.weight\n",
      "model.model.23.cv3.0.1.0.bn.bias\n",
      "model.model.23.cv3.0.1.1.conv.weight\n",
      "model.model.23.cv3.0.1.1.bn.weight\n",
      "model.model.23.cv3.0.1.1.bn.bias\n",
      "model.model.23.cv3.0.2.weight\n",
      "model.model.23.cv3.0.2.bias\n",
      "model.model.23.cv3.1.0.0.conv.weight\n",
      "model.model.23.cv3.1.0.0.bn.weight\n",
      "model.model.23.cv3.1.0.0.bn.bias\n",
      "model.model.23.cv3.1.0.1.conv.weight\n",
      "model.model.23.cv3.1.0.1.bn.weight\n",
      "model.model.23.cv3.1.0.1.bn.bias\n",
      "model.model.23.cv3.1.1.0.conv.weight\n",
      "model.model.23.cv3.1.1.0.bn.weight\n",
      "model.model.23.cv3.1.1.0.bn.bias\n",
      "model.model.23.cv3.1.1.1.conv.weight\n",
      "model.model.23.cv3.1.1.1.bn.weight\n",
      "model.model.23.cv3.1.1.1.bn.bias\n",
      "model.model.23.cv3.1.2.weight\n",
      "model.model.23.cv3.1.2.bias\n",
      "model.model.23.cv3.2.0.0.conv.weight\n",
      "model.model.23.cv3.2.0.0.bn.weight\n",
      "model.model.23.cv3.2.0.0.bn.bias\n",
      "model.model.23.cv3.2.0.1.conv.weight\n",
      "model.model.23.cv3.2.0.1.bn.weight\n",
      "model.model.23.cv3.2.0.1.bn.bias\n",
      "model.model.23.cv3.2.1.0.conv.weight\n",
      "model.model.23.cv3.2.1.0.bn.weight\n",
      "model.model.23.cv3.2.1.0.bn.bias\n",
      "model.model.23.cv3.2.1.1.conv.weight\n",
      "model.model.23.cv3.2.1.1.bn.weight\n",
      "model.model.23.cv3.2.1.1.bn.bias\n",
      "model.model.23.cv3.2.2.weight\n",
      "model.model.23.cv3.2.2.bias\n",
      "model.model.23.dfl.conv.weight\n"
     ]
    }
   ],
   "source": [
    "from ultralytics import YOLO\n",
    "\n",
    "model = YOLO(\"yolo11m.yaml\").load(\"yolo11m.pt\") \n",
    "for name, param in model.named_parameters():\n",
    "    print(name)"
   ]
  },
  {
   "cell_type": "code",
   "execution_count": 3,
   "id": "a824a291-5501-48ab-ae47-2fee61abb5c2",
   "metadata": {},
   "outputs": [
    {
     "name": "stdout",
     "output_type": "stream",
     "text": [
      "Utilizzando il dispositivo: cuda\n",
      "New https://pypi.org/project/ultralytics/8.3.159 available  Update with 'pip install -U ultralytics'\n",
      "Ultralytics 8.3.155  Python-3.13.2 torch-2.7.1+cu128 CUDA:0 (NVIDIA GeForce RTX 4060 Laptop GPU, 8188MiB)\n",
      "\u001b[34m\u001b[1mengine\\trainer: \u001b[0magnostic_nms=False, amp=True, augment=False, auto_augment=randaugment, batch=16, bgr=0.0, box=7.5, cache=False, cfg=None, classes=None, close_mosaic=10, cls=0.5, conf=None, copy_paste=0.0, copy_paste_mode=flip, cos_lr=False, cutmix=0.0, data=C:\\Users\\sgarr\\Desktop\\progetto_Vision\\HBFMID_YOLO_Export\\dataset.yaml, degrees=0.0, deterministic=True, device=0, dfl=1.5, dnn=False, dropout=0.0, dynamic=False, embed=None, epochs=70, erasing=0.4, exist_ok=False, fliplr=0.5, flipud=0.0, format=torchscript, fraction=1.0, freeze=None, half=False, hsv_h=0.015, hsv_s=0.7, hsv_v=0.4, imgsz=640, int8=False, iou=0.7, keras=False, kobj=1.0, line_width=None, lr0=0.0001, lrf=0.01, mask_ratio=4, max_det=300, mixup=0.0, mode=train, model=yolo11m.yaml, momentum=0.937, mosaic=1.0, multi_scale=False, name=yolov11m_hbfmid_finetune_tentativo_freezeLayers_preloadModel2, nbs=64, nms=False, opset=None, optimize=False, optimizer=auto, overlap_mask=True, patience=100, perspective=0.0, plots=True, pose=12.0, pretrained=yolo11m.pt, profile=False, project=None, rect=False, resume=False, retina_masks=False, save=True, save_conf=False, save_crop=False, save_dir=runs\\detect\\yolov11m_hbfmid_finetune_tentativo_freezeLayers_preloadModel2, save_frames=False, save_json=False, save_period=-1, save_txt=False, scale=0.5, seed=0, shear=0.0, show=False, show_boxes=True, show_conf=True, show_labels=True, simplify=True, single_cls=False, source=None, split=val, stream_buffer=False, task=detect, time=None, tracker=botsort.yaml, translate=0.1, val=True, verbose=True, vid_stride=1, visualize=False, warmup_bias_lr=0.1, warmup_epochs=3.0, warmup_momentum=0.8, weight_decay=0.0005, workers=8, workspace=None\n",
      "Overriding model.yaml nc=80 with nc=10\n",
      "\n",
      "                   from  n    params  module                                       arguments                     \n",
      "  0                  -1  1      1856  ultralytics.nn.modules.conv.Conv             [3, 64, 3, 2]                 \n",
      "  1                  -1  1     73984  ultralytics.nn.modules.conv.Conv             [64, 128, 3, 2]               \n",
      "  2                  -1  1    111872  ultralytics.nn.modules.block.C3k2            [128, 256, 1, True, 0.25]     \n",
      "  3                  -1  1    590336  ultralytics.nn.modules.conv.Conv             [256, 256, 3, 2]              \n",
      "  4                  -1  1    444928  ultralytics.nn.modules.block.C3k2            [256, 512, 1, True, 0.25]     \n",
      "  5                  -1  1   2360320  ultralytics.nn.modules.conv.Conv             [512, 512, 3, 2]              \n",
      "  6                  -1  1   1380352  ultralytics.nn.modules.block.C3k2            [512, 512, 1, True]           \n",
      "  7                  -1  1   2360320  ultralytics.nn.modules.conv.Conv             [512, 512, 3, 2]              \n",
      "  8                  -1  1   1380352  ultralytics.nn.modules.block.C3k2            [512, 512, 1, True]           \n",
      "  9                  -1  1    656896  ultralytics.nn.modules.block.SPPF            [512, 512, 5]                 \n",
      " 10                  -1  1    990976  ultralytics.nn.modules.block.C2PSA           [512, 512, 1]                 \n",
      " 11                  -1  1         0  torch.nn.modules.upsampling.Upsample         [None, 2, 'nearest']          \n",
      " 12             [-1, 6]  1         0  ultralytics.nn.modules.conv.Concat           [1]                           \n",
      " 13                  -1  1   1642496  ultralytics.nn.modules.block.C3k2            [1024, 512, 1, True]          \n",
      " 14                  -1  1         0  torch.nn.modules.upsampling.Upsample         [None, 2, 'nearest']          \n",
      " 15             [-1, 4]  1         0  ultralytics.nn.modules.conv.Concat           [1]                           \n",
      " 16                  -1  1    542720  ultralytics.nn.modules.block.C3k2            [1024, 256, 1, True]          \n",
      " 17                  -1  1    590336  ultralytics.nn.modules.conv.Conv             [256, 256, 3, 2]              \n",
      " 18            [-1, 13]  1         0  ultralytics.nn.modules.conv.Concat           [1]                           \n",
      " 19                  -1  1   1511424  ultralytics.nn.modules.block.C3k2            [768, 512, 1, True]           \n",
      " 20                  -1  1   2360320  ultralytics.nn.modules.conv.Conv             [512, 512, 3, 2]              \n",
      " 21            [-1, 10]  1         0  ultralytics.nn.modules.conv.Concat           [1]                           \n",
      " 22                  -1  1   1642496  ultralytics.nn.modules.block.C3k2            [1024, 512, 1, True]          \n",
      " 23        [16, 19, 22]  1   1418734  ultralytics.nn.modules.head.Detect           [10, [256, 512, 512]]         \n",
      "YOLO11m summary: 231 layers, 20,060,718 parameters, 20,060,702 gradients, 68.2 GFLOPs\n",
      "\n",
      "Transferred 643/649 items from pretrained weights\n",
      "Freezing layer 'model.23.dfl.conv.weight'\n",
      "\u001b[34m\u001b[1mAMP: \u001b[0mrunning Automatic Mixed Precision (AMP) checks...\n",
      "\u001b[34m\u001b[1mAMP: \u001b[0mchecks passed \n",
      "\u001b[34m\u001b[1mtrain: \u001b[0mFast image access  (ping: 0.20.1 ms, read: 19.92.1 MB/s, size: 26.7 KB)\n"
     ]
    },
    {
     "name": "stderr",
     "output_type": "stream",
     "text": [
      "\u001b[34m\u001b[1mtrain: \u001b[0mScanning C:\\Users\\sgarr\\Desktop\\progetto_Vision\\HBFMID_YOLO_Export\\labels\\train.cache... 1347 images, 3 backgrou\u001b[0m\n"
     ]
    },
    {
     "name": "stdout",
     "output_type": "stream",
     "text": [
      "\u001b[34m\u001b[1mval: \u001b[0mFast image access  (ping: 0.10.0 ms, read: 54.28.5 MB/s, size: 29.9 KB)\n"
     ]
    },
    {
     "name": "stderr",
     "output_type": "stream",
     "text": [
      "\u001b[34m\u001b[1mval: \u001b[0mScanning C:\\Users\\sgarr\\Desktop\\progetto_Vision\\HBFMID_YOLO_Export\\labels\\val.cache... 1539 images, 3 backgrounds,\u001b[0m\n"
     ]
    },
    {
     "name": "stdout",
     "output_type": "stream",
     "text": [
      "Plotting labels to runs\\detect\\yolov11m_hbfmid_finetune_tentativo_freezeLayers_preloadModel2\\labels.jpg... \n",
      "\u001b[34m\u001b[1moptimizer:\u001b[0m 'optimizer=auto' found, ignoring 'lr0=0.0001' and 'momentum=0.937' and determining best 'optimizer', 'lr0' and 'momentum' automatically... \n",
      "\u001b[34m\u001b[1moptimizer:\u001b[0m AdamW(lr=0.000714, momentum=0.9) with parameter groups 106 weight(decay=0.0), 113 weight(decay=0.0005), 112 bias(decay=0.0)\n",
      "Freezing 10 layers\n",
      "freezing model.0.conv.weight\n",
      "freezing model.0.bn.weight\n",
      "freezing model.0.bn.bias\n",
      "freezing model.1.conv.weight\n",
      "freezing model.1.bn.weight\n",
      "freezing model.1.bn.bias\n",
      "freezing model.2.cv1.conv.weight\n",
      "freezing model.2.cv1.bn.weight\n",
      "freezing model.2.cv1.bn.bias\n",
      "freezing model.2.cv2.conv.weight\n",
      "freezing model.2.cv2.bn.weight\n",
      "freezing model.2.cv2.bn.bias\n",
      "freezing model.2.m.0.cv1.conv.weight\n",
      "freezing model.2.m.0.cv1.bn.weight\n",
      "freezing model.2.m.0.cv1.bn.bias\n",
      "freezing model.2.m.0.cv2.conv.weight\n",
      "freezing model.2.m.0.cv2.bn.weight\n",
      "freezing model.2.m.0.cv2.bn.bias\n",
      "freezing model.2.m.0.cv3.conv.weight\n",
      "freezing model.2.m.0.cv3.bn.weight\n",
      "freezing model.2.m.0.cv3.bn.bias\n",
      "freezing model.2.m.0.m.0.cv1.conv.weight\n",
      "freezing model.2.m.0.m.0.cv1.bn.weight\n",
      "freezing model.2.m.0.m.0.cv1.bn.bias\n",
      "freezing model.2.m.0.m.0.cv2.conv.weight\n",
      "freezing model.2.m.0.m.0.cv2.bn.weight\n",
      "freezing model.2.m.0.m.0.cv2.bn.bias\n",
      "freezing model.2.m.0.m.1.cv1.conv.weight\n",
      "freezing model.2.m.0.m.1.cv1.bn.weight\n",
      "freezing model.2.m.0.m.1.cv1.bn.bias\n",
      "freezing model.2.m.0.m.1.cv2.conv.weight\n",
      "freezing model.2.m.0.m.1.cv2.bn.weight\n",
      "freezing model.2.m.0.m.1.cv2.bn.bias\n",
      "freezing model.3.conv.weight\n",
      "freezing model.3.bn.weight\n",
      "freezing model.3.bn.bias\n",
      "freezing model.4.cv1.conv.weight\n",
      "freezing model.4.cv1.bn.weight\n",
      "freezing model.4.cv1.bn.bias\n",
      "freezing model.4.cv2.conv.weight\n",
      "freezing model.4.cv2.bn.weight\n",
      "freezing model.4.cv2.bn.bias\n",
      "freezing model.4.m.0.cv1.conv.weight\n",
      "freezing model.4.m.0.cv1.bn.weight\n",
      "freezing model.4.m.0.cv1.bn.bias\n",
      "freezing model.4.m.0.cv2.conv.weight\n",
      "freezing model.4.m.0.cv2.bn.weight\n",
      "freezing model.4.m.0.cv2.bn.bias\n",
      "freezing model.4.m.0.cv3.conv.weight\n",
      "freezing model.4.m.0.cv3.bn.weight\n",
      "freezing model.4.m.0.cv3.bn.bias\n",
      "freezing model.4.m.0.m.0.cv1.conv.weight\n",
      "freezing model.4.m.0.m.0.cv1.bn.weight\n",
      "freezing model.4.m.0.m.0.cv1.bn.bias\n",
      "freezing model.4.m.0.m.0.cv2.conv.weight\n",
      "freezing model.4.m.0.m.0.cv2.bn.weight\n",
      "freezing model.4.m.0.m.0.cv2.bn.bias\n",
      "freezing model.4.m.0.m.1.cv1.conv.weight\n",
      "freezing model.4.m.0.m.1.cv1.bn.weight\n",
      "freezing model.4.m.0.m.1.cv1.bn.bias\n",
      "freezing model.4.m.0.m.1.cv2.conv.weight\n",
      "freezing model.4.m.0.m.1.cv2.bn.weight\n",
      "freezing model.4.m.0.m.1.cv2.bn.bias\n",
      "freezing model.5.conv.weight\n",
      "freezing model.5.bn.weight\n",
      "freezing model.5.bn.bias\n",
      "freezing model.6.cv1.conv.weight\n",
      "freezing model.6.cv1.bn.weight\n",
      "freezing model.6.cv1.bn.bias\n",
      "freezing model.6.cv2.conv.weight\n",
      "freezing model.6.cv2.bn.weight\n",
      "freezing model.6.cv2.bn.bias\n",
      "freezing model.6.m.0.cv1.conv.weight\n",
      "freezing model.6.m.0.cv1.bn.weight\n",
      "freezing model.6.m.0.cv1.bn.bias\n",
      "freezing model.6.m.0.cv2.conv.weight\n",
      "freezing model.6.m.0.cv2.bn.weight\n",
      "freezing model.6.m.0.cv2.bn.bias\n",
      "freezing model.6.m.0.cv3.conv.weight\n",
      "freezing model.6.m.0.cv3.bn.weight\n",
      "freezing model.6.m.0.cv3.bn.bias\n",
      "freezing model.6.m.0.m.0.cv1.conv.weight\n",
      "freezing model.6.m.0.m.0.cv1.bn.weight\n",
      "freezing model.6.m.0.m.0.cv1.bn.bias\n",
      "freezing model.6.m.0.m.0.cv2.conv.weight\n",
      "freezing model.6.m.0.m.0.cv2.bn.weight\n",
      "freezing model.6.m.0.m.0.cv2.bn.bias\n",
      "freezing model.6.m.0.m.1.cv1.conv.weight\n",
      "freezing model.6.m.0.m.1.cv1.bn.weight\n",
      "freezing model.6.m.0.m.1.cv1.bn.bias\n",
      "freezing model.6.m.0.m.1.cv2.conv.weight\n",
      "freezing model.6.m.0.m.1.cv2.bn.weight\n",
      "freezing model.6.m.0.m.1.cv2.bn.bias\n",
      "freezing model.7.conv.weight\n",
      "freezing model.7.bn.weight\n",
      "freezing model.7.bn.bias\n",
      "freezing model.8.cv1.conv.weight\n",
      "freezing model.8.cv1.bn.weight\n",
      "freezing model.8.cv1.bn.bias\n",
      "freezing model.8.cv2.conv.weight\n",
      "freezing model.8.cv2.bn.weight\n",
      "freezing model.8.cv2.bn.bias\n",
      "freezing model.8.m.0.cv1.conv.weight\n",
      "freezing model.8.m.0.cv1.bn.weight\n",
      "freezing model.8.m.0.cv1.bn.bias\n",
      "freezing model.8.m.0.cv2.conv.weight\n",
      "freezing model.8.m.0.cv2.bn.weight\n",
      "freezing model.8.m.0.cv2.bn.bias\n",
      "freezing model.8.m.0.cv3.conv.weight\n",
      "freezing model.8.m.0.cv3.bn.weight\n",
      "freezing model.8.m.0.cv3.bn.bias\n",
      "freezing model.8.m.0.m.0.cv1.conv.weight\n",
      "freezing model.8.m.0.m.0.cv1.bn.weight\n",
      "freezing model.8.m.0.m.0.cv1.bn.bias\n",
      "freezing model.8.m.0.m.0.cv2.conv.weight\n",
      "freezing model.8.m.0.m.0.cv2.bn.weight\n",
      "freezing model.8.m.0.m.0.cv2.bn.bias\n",
      "freezing model.8.m.0.m.1.cv1.conv.weight\n",
      "freezing model.8.m.0.m.1.cv1.bn.weight\n",
      "freezing model.8.m.0.m.1.cv1.bn.bias\n",
      "freezing model.8.m.0.m.1.cv2.conv.weight\n",
      "freezing model.8.m.0.m.1.cv2.bn.weight\n",
      "freezing model.8.m.0.m.1.cv2.bn.bias\n",
      "freezing model.9.cv1.conv.weight\n",
      "freezing model.9.cv1.bn.weight\n",
      "freezing model.9.cv1.bn.bias\n",
      "freezing model.9.cv2.conv.weight\n",
      "freezing model.9.cv2.bn.weight\n",
      "freezing model.9.cv2.bn.bias\n",
      "10 layers are freezed.\n",
      "Image sizes 640 train, 640 val\n",
      "Using 8 dataloader workers\n",
      "Logging results to \u001b[1mruns\\detect\\yolov11m_hbfmid_finetune_tentativo_freezeLayers_preloadModel2\u001b[0m\n",
      "Starting training for 70 epochs...\n",
      "\n",
      "      Epoch    GPU_mem   box_loss   cls_loss   dfl_loss  Instances       Size\n"
     ]
    },
    {
     "name": "stderr",
     "output_type": "stream",
     "text": [
      "       1/70      3.73G      2.433      5.135      2.439          4        640: 100%|██████████| 85/85 [00:39<00:00,  2.\n",
      "                 Class     Images  Instances      Box(P          R      mAP50  mAP50-95): 100%|██████████| 49/49 [00:31\n"
     ]
    },
    {
     "name": "stdout",
     "output_type": "stream",
     "text": [
      "                   all       1539       1771      0.207     0.0788    0.00455    0.00155\n",
      "\n",
      "      Epoch    GPU_mem   box_loss   cls_loss   dfl_loss  Instances       Size\n"
     ]
    },
    {
     "name": "stderr",
     "output_type": "stream",
     "text": [
      "       2/70      3.75G      2.143      3.008      2.196          5        640: 100%|██████████| 85/85 [00:32<00:00,  2.\n",
      "                 Class     Images  Instances      Box(P          R      mAP50  mAP50-95): 100%|██████████| 49/49 [00:31\n"
     ]
    },
    {
     "name": "stdout",
     "output_type": "stream",
     "text": [
      "                   all       1539       1771    0.00853     0.0394    0.00582    0.00208\n",
      "\n",
      "      Epoch    GPU_mem   box_loss   cls_loss   dfl_loss  Instances       Size\n"
     ]
    },
    {
     "name": "stderr",
     "output_type": "stream",
     "text": [
      "       3/70      3.79G      2.135       2.62      2.216          9        640: 100%|██████████| 85/85 [00:32<00:00,  2.\n",
      "                 Class     Images  Instances      Box(P          R      mAP50  mAP50-95): 100%|██████████| 49/49 [00:32\n"
     ]
    },
    {
     "name": "stdout",
     "output_type": "stream",
     "text": [
      "                   all       1539       1771     0.0039     0.0775    0.00272    0.00102\n",
      "\n",
      "      Epoch    GPU_mem   box_loss   cls_loss   dfl_loss  Instances       Size\n"
     ]
    },
    {
     "name": "stderr",
     "output_type": "stream",
     "text": [
      "       4/70      3.81G      2.085        2.3       2.17          4        640: 100%|██████████| 85/85 [00:31<00:00,  2.\n",
      "                 Class     Images  Instances      Box(P          R      mAP50  mAP50-95): 100%|██████████| 49/49 [00:31\n"
     ]
    },
    {
     "name": "stdout",
     "output_type": "stream",
     "text": [
      "                   all       1539       1771    0.00395      0.377     0.0055     0.0022\n",
      "\n",
      "      Epoch    GPU_mem   box_loss   cls_loss   dfl_loss  Instances       Size\n"
     ]
    },
    {
     "name": "stderr",
     "output_type": "stream",
     "text": [
      "       5/70      3.79G      1.997      2.145      2.144          5        640: 100%|██████████| 85/85 [00:31<00:00,  2.\n",
      "                 Class     Images  Instances      Box(P          R      mAP50  mAP50-95): 100%|██████████| 49/49 [00:30\n"
     ]
    },
    {
     "name": "stdout",
     "output_type": "stream",
     "text": [
      "                   all       1539       1771    0.00553      0.109    0.00439    0.00166\n",
      "\n",
      "      Epoch    GPU_mem   box_loss   cls_loss   dfl_loss  Instances       Size\n"
     ]
    },
    {
     "name": "stderr",
     "output_type": "stream",
     "text": [
      "       6/70      3.45G      1.917      1.943      2.059          3        640: 100%|██████████| 85/85 [00:30<00:00,  2.\n",
      "                 Class     Images  Instances      Box(P          R      mAP50  mAP50-95): 100%|██████████| 49/49 [00:28\n"
     ]
    },
    {
     "name": "stdout",
     "output_type": "stream",
     "text": [
      "                   all       1539       1771    0.00798      0.283    0.00656    0.00269\n",
      "\n",
      "      Epoch    GPU_mem   box_loss   cls_loss   dfl_loss  Instances       Size\n"
     ]
    },
    {
     "name": "stderr",
     "output_type": "stream",
     "text": [
      "       7/70      3.46G      1.858      1.843      2.028          2        640: 100%|██████████| 85/85 [00:30<00:00,  2.\n",
      "                 Class     Images  Instances      Box(P          R      mAP50  mAP50-95): 100%|██████████| 49/49 [00:29\n"
     ]
    },
    {
     "name": "stdout",
     "output_type": "stream",
     "text": [
      "                   all       1539       1771    0.00756       0.27    0.00643    0.00266\n",
      "\n",
      "      Epoch    GPU_mem   box_loss   cls_loss   dfl_loss  Instances       Size\n"
     ]
    },
    {
     "name": "stderr",
     "output_type": "stream",
     "text": [
      "       8/70      3.74G      1.761      1.623      1.963          5        640: 100%|██████████| 85/85 [00:30<00:00,  2.\n",
      "                 Class     Images  Instances      Box(P          R      mAP50  mAP50-95): 100%|██████████| 49/49 [00:28\n"
     ]
    },
    {
     "name": "stdout",
     "output_type": "stream",
     "text": [
      "                   all       1539       1771     0.0121      0.309     0.0133    0.00636\n",
      "\n",
      "      Epoch    GPU_mem   box_loss   cls_loss   dfl_loss  Instances       Size\n"
     ]
    },
    {
     "name": "stderr",
     "output_type": "stream",
     "text": [
      "       9/70      3.79G      1.771      1.588      1.968          8        640: 100%|██████████| 85/85 [00:29<00:00,  2.\n",
      "                 Class     Images  Instances      Box(P          R      mAP50  mAP50-95): 100%|██████████| 49/49 [00:29\n"
     ]
    },
    {
     "name": "stdout",
     "output_type": "stream",
     "text": [
      "                   all       1539       1771     0.0156      0.301     0.0135    0.00694\n",
      "\n",
      "      Epoch    GPU_mem   box_loss   cls_loss   dfl_loss  Instances       Size\n"
     ]
    },
    {
     "name": "stderr",
     "output_type": "stream",
     "text": [
      "      10/70      3.78G        1.7      1.535      1.905          4        640: 100%|██████████| 85/85 [00:29<00:00,  2.\n",
      "                 Class     Images  Instances      Box(P          R      mAP50  mAP50-95): 100%|██████████| 49/49 [00:29\n"
     ]
    },
    {
     "name": "stdout",
     "output_type": "stream",
     "text": [
      "                   all       1539       1771     0.0139       0.28     0.0109    0.00584\n",
      "\n",
      "      Epoch    GPU_mem   box_loss   cls_loss   dfl_loss  Instances       Size\n"
     ]
    },
    {
     "name": "stderr",
     "output_type": "stream",
     "text": [
      "      11/70      3.45G      1.703      1.432      1.902         11        640: 100%|██████████| 85/85 [00:30<00:00,  2.\n",
      "                 Class     Images  Instances      Box(P          R      mAP50  mAP50-95): 100%|██████████| 49/49 [00:29\n"
     ]
    },
    {
     "name": "stdout",
     "output_type": "stream",
     "text": [
      "                   all       1539       1771    0.00986      0.276    0.00964    0.00457\n",
      "\n",
      "      Epoch    GPU_mem   box_loss   cls_loss   dfl_loss  Instances       Size\n"
     ]
    },
    {
     "name": "stderr",
     "output_type": "stream",
     "text": [
      "      12/70      3.74G      1.677      1.404       1.88          5        640: 100%|██████████| 85/85 [00:30<00:00,  2.\n",
      "                 Class     Images  Instances      Box(P          R      mAP50  mAP50-95): 100%|██████████| 49/49 [00:29\n"
     ]
    },
    {
     "name": "stdout",
     "output_type": "stream",
     "text": [
      "                   all       1539       1771    0.00605      0.282    0.00492     0.0024\n",
      "\n",
      "      Epoch    GPU_mem   box_loss   cls_loss   dfl_loss  Instances       Size\n"
     ]
    },
    {
     "name": "stderr",
     "output_type": "stream",
     "text": [
      "      13/70      3.79G      1.628      1.341      1.848          5        640: 100%|██████████| 85/85 [00:29<00:00,  2.\n",
      "                 Class     Images  Instances      Box(P          R      mAP50  mAP50-95): 100%|██████████| 49/49 [00:29\n"
     ]
    },
    {
     "name": "stdout",
     "output_type": "stream",
     "text": [
      "                   all       1539       1771    0.00639      0.151    0.00447    0.00228\n",
      "\n",
      "      Epoch    GPU_mem   box_loss   cls_loss   dfl_loss  Instances       Size\n"
     ]
    },
    {
     "name": "stderr",
     "output_type": "stream",
     "text": [
      "      14/70      3.46G      1.606       1.29      1.821          7        640: 100%|██████████| 85/85 [00:30<00:00,  2.\n",
      "                 Class     Images  Instances      Box(P          R      mAP50  mAP50-95): 100%|██████████| 49/49 [00:29"
     ]
    },
    {
     "name": "stdout",
     "output_type": "stream",
     "text": [
      "                   all       1539       1771    0.00801      0.239    0.00579    0.00287\n"
     ]
    },
    {
     "name": "stderr",
     "output_type": "stream",
     "text": [
      "\n"
     ]
    },
    {
     "name": "stdout",
     "output_type": "stream",
     "text": [
      "\n",
      "      Epoch    GPU_mem   box_loss   cls_loss   dfl_loss  Instances       Size\n"
     ]
    },
    {
     "name": "stderr",
     "output_type": "stream",
     "text": [
      "      15/70      3.46G      1.569      1.285      1.826          3        640: 100%|██████████| 85/85 [00:30<00:00,  2.\n",
      "                 Class     Images  Instances      Box(P          R      mAP50  mAP50-95): 100%|██████████| 49/49 [00:29\n"
     ]
    },
    {
     "name": "stdout",
     "output_type": "stream",
     "text": [
      "                   all       1539       1771     0.0107      0.227    0.00769    0.00417\n",
      "\n",
      "      Epoch    GPU_mem   box_loss   cls_loss   dfl_loss  Instances       Size\n"
     ]
    },
    {
     "name": "stderr",
     "output_type": "stream",
     "text": [
      "      16/70      3.81G       1.55      1.216      1.794          5        640: 100%|██████████| 85/85 [00:29<00:00,  2.\n",
      "                 Class     Images  Instances      Box(P          R      mAP50  mAP50-95): 100%|██████████| 49/49 [00:29\n"
     ]
    },
    {
     "name": "stdout",
     "output_type": "stream",
     "text": [
      "                   all       1539       1771    0.00764      0.226    0.00504    0.00286\n",
      "\n",
      "      Epoch    GPU_mem   box_loss   cls_loss   dfl_loss  Instances       Size\n"
     ]
    },
    {
     "name": "stderr",
     "output_type": "stream",
     "text": [
      "      17/70      3.79G      1.536      1.189      1.768          3        640: 100%|██████████| 85/85 [00:29<00:00,  2.\n",
      "                 Class     Images  Instances      Box(P          R      mAP50  mAP50-95): 100%|██████████| 49/49 [00:28"
     ]
    },
    {
     "name": "stdout",
     "output_type": "stream",
     "text": [
      "                   all       1539       1771     0.0157      0.188     0.0102    0.00577\n"
     ]
    },
    {
     "name": "stderr",
     "output_type": "stream",
     "text": [
      "\n"
     ]
    },
    {
     "name": "stdout",
     "output_type": "stream",
     "text": [
      "\n",
      "      Epoch    GPU_mem   box_loss   cls_loss   dfl_loss  Instances       Size\n"
     ]
    },
    {
     "name": "stderr",
     "output_type": "stream",
     "text": [
      "      18/70      3.45G        1.5      1.113      1.743          6        640: 100%|██████████| 85/85 [00:29<00:00,  2.\n",
      "                 Class     Images  Instances      Box(P          R      mAP50  mAP50-95): 100%|██████████| 49/49 [00:29\n"
     ]
    },
    {
     "name": "stdout",
     "output_type": "stream",
     "text": [
      "                   all       1539       1771     0.0106      0.226    0.00708    0.00391\n",
      "\n",
      "      Epoch    GPU_mem   box_loss   cls_loss   dfl_loss  Instances       Size\n"
     ]
    },
    {
     "name": "stderr",
     "output_type": "stream",
     "text": [
      "      19/70      3.46G       1.49      1.121       1.76          7        640: 100%|██████████| 85/85 [00:29<00:00,  2.\n",
      "                 Class     Images  Instances      Box(P          R      mAP50  mAP50-95): 100%|██████████| 49/49 [00:29"
     ]
    },
    {
     "name": "stdout",
     "output_type": "stream",
     "text": [
      "                   all       1539       1771    0.00797      0.209    0.00539      0.003\n"
     ]
    },
    {
     "name": "stderr",
     "output_type": "stream",
     "text": [
      "\n"
     ]
    },
    {
     "name": "stdout",
     "output_type": "stream",
     "text": [
      "\n",
      "      Epoch    GPU_mem   box_loss   cls_loss   dfl_loss  Instances       Size\n"
     ]
    },
    {
     "name": "stderr",
     "output_type": "stream",
     "text": [
      "      20/70      3.81G      1.514      1.135      1.766          3        640: 100%|██████████| 85/85 [00:29<00:00,  2.\n",
      "                 Class     Images  Instances      Box(P          R      mAP50  mAP50-95): 100%|██████████| 49/49 [00:29\n"
     ]
    },
    {
     "name": "stdout",
     "output_type": "stream",
     "text": [
      "                   all       1539       1771    0.00507      0.184    0.00319    0.00171\n",
      "\n",
      "      Epoch    GPU_mem   box_loss   cls_loss   dfl_loss  Instances       Size\n"
     ]
    },
    {
     "name": "stderr",
     "output_type": "stream",
     "text": [
      "      21/70      3.79G      1.443      1.106      1.707          5        640: 100%|██████████| 85/85 [00:29<00:00,  2.\n",
      "                 Class     Images  Instances      Box(P          R      mAP50  mAP50-95): 100%|██████████| 49/49 [00:29"
     ]
    },
    {
     "name": "stdout",
     "output_type": "stream",
     "text": [
      "                   all       1539       1771    0.00769      0.194    0.00533    0.00318\n"
     ]
    },
    {
     "name": "stderr",
     "output_type": "stream",
     "text": [
      "\n"
     ]
    },
    {
     "name": "stdout",
     "output_type": "stream",
     "text": [
      "\n",
      "      Epoch    GPU_mem   box_loss   cls_loss   dfl_loss  Instances       Size\n"
     ]
    },
    {
     "name": "stderr",
     "output_type": "stream",
     "text": [
      "      22/70      3.47G       1.42      1.031      1.675          9        640: 100%|██████████| 85/85 [00:29<00:00,  2.\n",
      "                 Class     Images  Instances      Box(P          R      mAP50  mAP50-95): 100%|██████████| 49/49 [00:29"
     ]
    },
    {
     "name": "stdout",
     "output_type": "stream",
     "text": [
      "                   all       1539       1771     0.0171      0.179     0.0121    0.00722\n"
     ]
    },
    {
     "name": "stderr",
     "output_type": "stream",
     "text": [
      "\n"
     ]
    },
    {
     "name": "stdout",
     "output_type": "stream",
     "text": [
      "\n",
      "      Epoch    GPU_mem   box_loss   cls_loss   dfl_loss  Instances       Size\n"
     ]
    },
    {
     "name": "stderr",
     "output_type": "stream",
     "text": [
      "      23/70      3.46G       1.39      1.028       1.65          5        640: 100%|██████████| 85/85 [00:30<00:00,  2.\n",
      "                 Class     Images  Instances      Box(P          R      mAP50  mAP50-95): 100%|██████████| 49/49 [00:29"
     ]
    },
    {
     "name": "stdout",
     "output_type": "stream",
     "text": [
      "                   all       1539       1771     0.0152      0.201     0.0102    0.00576\n"
     ]
    },
    {
     "name": "stderr",
     "output_type": "stream",
     "text": [
      "\n"
     ]
    },
    {
     "name": "stdout",
     "output_type": "stream",
     "text": [
      "\n",
      "      Epoch    GPU_mem   box_loss   cls_loss   dfl_loss  Instances       Size\n"
     ]
    },
    {
     "name": "stderr",
     "output_type": "stream",
     "text": [
      "      24/70      3.74G      1.395      1.026      1.667          4        640: 100%|██████████| 85/85 [00:29<00:00,  2.\n",
      "                 Class     Images  Instances      Box(P          R      mAP50  mAP50-95): 100%|██████████| 49/49 [00:29"
     ]
    },
    {
     "name": "stdout",
     "output_type": "stream",
     "text": [
      "                   all       1539       1771     0.0149      0.157     0.0092    0.00467\n"
     ]
    },
    {
     "name": "stderr",
     "output_type": "stream",
     "text": [
      "\n"
     ]
    },
    {
     "name": "stdout",
     "output_type": "stream",
     "text": [
      "\n",
      "      Epoch    GPU_mem   box_loss   cls_loss   dfl_loss  Instances       Size\n"
     ]
    },
    {
     "name": "stderr",
     "output_type": "stream",
     "text": [
      "      25/70      3.79G      1.376     0.9901       1.66          7        640: 100%|██████████| 85/85 [00:29<00:00,  2.\n",
      "                 Class     Images  Instances      Box(P          R      mAP50  mAP50-95): 100%|██████████| 49/49 [00:29"
     ]
    },
    {
     "name": "stdout",
     "output_type": "stream",
     "text": [
      "                   all       1539       1771    0.00871      0.155    0.00585    0.00336\n"
     ]
    },
    {
     "name": "stderr",
     "output_type": "stream",
     "text": [
      "\n"
     ]
    },
    {
     "name": "stdout",
     "output_type": "stream",
     "text": [
      "\n",
      "      Epoch    GPU_mem   box_loss   cls_loss   dfl_loss  Instances       Size\n"
     ]
    },
    {
     "name": "stderr",
     "output_type": "stream",
     "text": [
      "      26/70      3.46G      1.347     0.9628      1.638          7        640: 100%|██████████| 85/85 [00:29<00:00,  2.\n",
      "                 Class     Images  Instances      Box(P          R      mAP50  mAP50-95): 100%|██████████| 49/49 [00:29"
     ]
    },
    {
     "name": "stdout",
     "output_type": "stream",
     "text": [
      "                   all       1539       1771     0.0112      0.108    0.00645    0.00411\n"
     ]
    },
    {
     "name": "stderr",
     "output_type": "stream",
     "text": [
      "\n"
     ]
    },
    {
     "name": "stdout",
     "output_type": "stream",
     "text": [
      "\n",
      "      Epoch    GPU_mem   box_loss   cls_loss   dfl_loss  Instances       Size\n"
     ]
    },
    {
     "name": "stderr",
     "output_type": "stream",
     "text": [
      "      27/70      3.85G       1.33      0.944      1.594          4        640: 100%|██████████| 85/85 [00:29<00:00,  2.\n",
      "                 Class     Images  Instances      Box(P          R      mAP50  mAP50-95): 100%|██████████| 49/49 [00:28"
     ]
    },
    {
     "name": "stdout",
     "output_type": "stream",
     "text": [
      "                   all       1539       1771    0.00777       0.16    0.00491    0.00296\n"
     ]
    },
    {
     "name": "stderr",
     "output_type": "stream",
     "text": [
      "\n"
     ]
    },
    {
     "name": "stdout",
     "output_type": "stream",
     "text": [
      "\n",
      "      Epoch    GPU_mem   box_loss   cls_loss   dfl_loss  Instances       Size\n"
     ]
    },
    {
     "name": "stderr",
     "output_type": "stream",
     "text": [
      "      28/70      3.74G       1.32     0.9246      1.604         10        640: 100%|██████████| 85/85 [00:29<00:00,  2.\n",
      "                 Class     Images  Instances      Box(P          R      mAP50  mAP50-95): 100%|██████████| 49/49 [00:29"
     ]
    },
    {
     "name": "stdout",
     "output_type": "stream",
     "text": [
      "                   all       1539       1771    0.00956      0.178    0.00738    0.00423\n"
     ]
    },
    {
     "name": "stderr",
     "output_type": "stream",
     "text": [
      "\n"
     ]
    },
    {
     "name": "stdout",
     "output_type": "stream",
     "text": [
      "\n",
      "      Epoch    GPU_mem   box_loss   cls_loss   dfl_loss  Instances       Size\n"
     ]
    },
    {
     "name": "stderr",
     "output_type": "stream",
     "text": [
      "      29/70      3.79G      1.298     0.8957      1.578          4        640: 100%|██████████| 85/85 [00:29<00:00,  2.\n",
      "                 Class     Images  Instances      Box(P          R      mAP50  mAP50-95): 100%|██████████| 49/49 [00:29"
     ]
    },
    {
     "name": "stdout",
     "output_type": "stream",
     "text": [
      "                   all       1539       1771    0.00728      0.156    0.00781    0.00434\n"
     ]
    },
    {
     "name": "stderr",
     "output_type": "stream",
     "text": [
      "\n"
     ]
    },
    {
     "name": "stdout",
     "output_type": "stream",
     "text": [
      "\n",
      "      Epoch    GPU_mem   box_loss   cls_loss   dfl_loss  Instances       Size\n"
     ]
    },
    {
     "name": "stderr",
     "output_type": "stream",
     "text": [
      "      30/70      3.46G      1.294     0.8868      1.577          5        640: 100%|██████████| 85/85 [00:29<00:00,  2.\n",
      "                 Class     Images  Instances      Box(P          R      mAP50  mAP50-95): 100%|██████████| 49/49 [00:29"
     ]
    },
    {
     "name": "stdout",
     "output_type": "stream",
     "text": [
      "                   all       1539       1771      0.014      0.155    0.00956    0.00522\n"
     ]
    },
    {
     "name": "stderr",
     "output_type": "stream",
     "text": [
      "\n"
     ]
    },
    {
     "name": "stdout",
     "output_type": "stream",
     "text": [
      "\n",
      "      Epoch    GPU_mem   box_loss   cls_loss   dfl_loss  Instances       Size\n"
     ]
    },
    {
     "name": "stderr",
     "output_type": "stream",
     "text": [
      "      31/70      3.46G      1.291     0.8912      1.566         12        640: 100%|██████████| 85/85 [00:30<00:00,  2.\n",
      "                 Class     Images  Instances      Box(P          R      mAP50  mAP50-95): 100%|██████████| 49/49 [00:29"
     ]
    },
    {
     "name": "stdout",
     "output_type": "stream",
     "text": [
      "                   all       1539       1771    0.00978      0.136    0.00657    0.00414\n"
     ]
    },
    {
     "name": "stderr",
     "output_type": "stream",
     "text": [
      "\n"
     ]
    },
    {
     "name": "stdout",
     "output_type": "stream",
     "text": [
      "\n",
      "      Epoch    GPU_mem   box_loss   cls_loss   dfl_loss  Instances       Size\n"
     ]
    },
    {
     "name": "stderr",
     "output_type": "stream",
     "text": [
      "      32/70      3.74G      1.289     0.8925      1.591          2        640: 100%|██████████| 85/85 [00:29<00:00,  2.\n",
      "                 Class     Images  Instances      Box(P          R      mAP50  mAP50-95): 100%|██████████| 49/49 [00:29"
     ]
    },
    {
     "name": "stdout",
     "output_type": "stream",
     "text": [
      "                   all       1539       1771    0.00884      0.141    0.00589    0.00334\n"
     ]
    },
    {
     "name": "stderr",
     "output_type": "stream",
     "text": [
      "\n"
     ]
    },
    {
     "name": "stdout",
     "output_type": "stream",
     "text": [
      "\n",
      "      Epoch    GPU_mem   box_loss   cls_loss   dfl_loss  Instances       Size\n"
     ]
    },
    {
     "name": "stderr",
     "output_type": "stream",
     "text": [
      "      33/70      3.79G      1.294     0.9242      1.549          1        640: 100%|██████████| 85/85 [00:30<00:00,  2.\n",
      "                 Class     Images  Instances      Box(P          R      mAP50  mAP50-95): 100%|██████████| 49/49 [00:29"
     ]
    },
    {
     "name": "stdout",
     "output_type": "stream",
     "text": [
      "                   all       1539       1771    0.00917      0.098    0.00572     0.0037\n"
     ]
    },
    {
     "name": "stderr",
     "output_type": "stream",
     "text": [
      "\n"
     ]
    },
    {
     "name": "stdout",
     "output_type": "stream",
     "text": [
      "\n",
      "      Epoch    GPU_mem   box_loss   cls_loss   dfl_loss  Instances       Size\n"
     ]
    },
    {
     "name": "stderr",
     "output_type": "stream",
     "text": [
      "      34/70      3.45G      1.289     0.8708      1.568          6        640: 100%|██████████| 85/85 [00:29<00:00,  2.\n",
      "                 Class     Images  Instances      Box(P          R      mAP50  mAP50-95): 100%|██████████| 49/49 [00:29"
     ]
    },
    {
     "name": "stdout",
     "output_type": "stream",
     "text": [
      "                   all       1539       1771    0.00938      0.129    0.00575    0.00372\n"
     ]
    },
    {
     "name": "stderr",
     "output_type": "stream",
     "text": [
      "\n"
     ]
    },
    {
     "name": "stdout",
     "output_type": "stream",
     "text": [
      "\n",
      "      Epoch    GPU_mem   box_loss   cls_loss   dfl_loss  Instances       Size\n"
     ]
    },
    {
     "name": "stderr",
     "output_type": "stream",
     "text": [
      "      35/70      3.78G      1.231     0.8444      1.541          9        640: 100%|██████████| 85/85 [00:30<00:00,  2.\n",
      "                 Class     Images  Instances      Box(P          R      mAP50  mAP50-95): 100%|██████████| 49/49 [00:30"
     ]
    },
    {
     "name": "stdout",
     "output_type": "stream",
     "text": [
      "                   all       1539       1771     0.0105      0.148    0.00653    0.00388\n"
     ]
    },
    {
     "name": "stderr",
     "output_type": "stream",
     "text": [
      "\n"
     ]
    },
    {
     "name": "stdout",
     "output_type": "stream",
     "text": [
      "\n",
      "      Epoch    GPU_mem   box_loss   cls_loss   dfl_loss  Instances       Size\n"
     ]
    },
    {
     "name": "stderr",
     "output_type": "stream",
     "text": [
      "      36/70      3.74G      1.209     0.8233      1.497          4        640: 100%|██████████| 85/85 [00:29<00:00,  2.\n",
      "                 Class     Images  Instances      Box(P          R      mAP50  mAP50-95): 100%|██████████| 49/49 [00:29"
     ]
    },
    {
     "name": "stdout",
     "output_type": "stream",
     "text": [
      "                   all       1539       1771     0.0127      0.098    0.00738    0.00487\n"
     ]
    },
    {
     "name": "stderr",
     "output_type": "stream",
     "text": [
      "\n"
     ]
    },
    {
     "name": "stdout",
     "output_type": "stream",
     "text": [
      "\n",
      "      Epoch    GPU_mem   box_loss   cls_loss   dfl_loss  Instances       Size\n"
     ]
    },
    {
     "name": "stderr",
     "output_type": "stream",
     "text": [
      "      37/70      3.79G      1.184      0.778      1.487          6        640: 100%|██████████| 85/85 [00:30<00:00,  2.\n",
      "                 Class     Images  Instances      Box(P          R      mAP50  mAP50-95): 100%|██████████| 49/49 [00:29"
     ]
    },
    {
     "name": "stdout",
     "output_type": "stream",
     "text": [
      "                   all       1539       1771      0.011       0.12    0.00784    0.00461\n"
     ]
    },
    {
     "name": "stderr",
     "output_type": "stream",
     "text": [
      "\n"
     ]
    },
    {
     "name": "stdout",
     "output_type": "stream",
     "text": [
      "\n",
      "      Epoch    GPU_mem   box_loss   cls_loss   dfl_loss  Instances       Size\n"
     ]
    },
    {
     "name": "stderr",
     "output_type": "stream",
     "text": [
      "      38/70      3.47G        1.2     0.8214      1.512          5        640: 100%|██████████| 85/85 [00:30<00:00,  2.\n",
      "                 Class     Images  Instances      Box(P          R      mAP50  mAP50-95): 100%|██████████| 49/49 [00:29"
     ]
    },
    {
     "name": "stdout",
     "output_type": "stream",
     "text": [
      "                   all       1539       1771     0.0165     0.0956    0.00984    0.00584\n"
     ]
    },
    {
     "name": "stderr",
     "output_type": "stream",
     "text": [
      "\n"
     ]
    },
    {
     "name": "stdout",
     "output_type": "stream",
     "text": [
      "\n",
      "      Epoch    GPU_mem   box_loss   cls_loss   dfl_loss  Instances       Size\n"
     ]
    },
    {
     "name": "stderr",
     "output_type": "stream",
     "text": [
      "      39/70      3.46G       1.18     0.7821      1.493          2        640: 100%|██████████| 85/85 [00:30<00:00,  2.\n",
      "                 Class     Images  Instances      Box(P          R      mAP50  mAP50-95): 100%|██████████| 49/49 [00:29"
     ]
    },
    {
     "name": "stdout",
     "output_type": "stream",
     "text": [
      "                   all       1539       1771      0.021      0.126     0.0132    0.00888\n"
     ]
    },
    {
     "name": "stderr",
     "output_type": "stream",
     "text": [
      "\n"
     ]
    },
    {
     "name": "stdout",
     "output_type": "stream",
     "text": [
      "\n",
      "      Epoch    GPU_mem   box_loss   cls_loss   dfl_loss  Instances       Size\n"
     ]
    },
    {
     "name": "stderr",
     "output_type": "stream",
     "text": [
      "      40/70      3.81G      1.174     0.8031      1.484          6        640: 100%|██████████| 85/85 [00:30<00:00,  2.\n",
      "                 Class     Images  Instances      Box(P          R      mAP50  mAP50-95): 100%|██████████| 49/49 [00:29"
     ]
    },
    {
     "name": "stdout",
     "output_type": "stream",
     "text": [
      "                   all       1539       1771     0.0178      0.122     0.0114    0.00727\n"
     ]
    },
    {
     "name": "stderr",
     "output_type": "stream",
     "text": [
      "\n"
     ]
    },
    {
     "name": "stdout",
     "output_type": "stream",
     "text": [
      "\n",
      "      Epoch    GPU_mem   box_loss   cls_loss   dfl_loss  Instances       Size\n"
     ]
    },
    {
     "name": "stderr",
     "output_type": "stream",
     "text": [
      "      41/70      3.79G       1.17     0.7928      1.479          7        640: 100%|██████████| 85/85 [00:30<00:00,  2.\n",
      "                 Class     Images  Instances      Box(P          R      mAP50  mAP50-95): 100%|██████████| 49/49 [00:29"
     ]
    },
    {
     "name": "stdout",
     "output_type": "stream",
     "text": [
      "                   all       1539       1771     0.0135      0.145    0.00956    0.00573\n"
     ]
    },
    {
     "name": "stderr",
     "output_type": "stream",
     "text": [
      "\n"
     ]
    },
    {
     "name": "stdout",
     "output_type": "stream",
     "text": [
      "\n",
      "      Epoch    GPU_mem   box_loss   cls_loss   dfl_loss  Instances       Size\n"
     ]
    },
    {
     "name": "stderr",
     "output_type": "stream",
     "text": [
      "      42/70      3.45G      1.164     0.7769       1.48          4        640: 100%|██████████| 85/85 [00:29<00:00,  2.\n",
      "                 Class     Images  Instances      Box(P          R      mAP50  mAP50-95): 100%|██████████| 49/49 [00:29"
     ]
    },
    {
     "name": "stdout",
     "output_type": "stream",
     "text": [
      "                   all       1539       1771     0.0175      0.133     0.0121    0.00781\n"
     ]
    },
    {
     "name": "stderr",
     "output_type": "stream",
     "text": [
      "\n"
     ]
    },
    {
     "name": "stdout",
     "output_type": "stream",
     "text": [
      "\n",
      "      Epoch    GPU_mem   box_loss   cls_loss   dfl_loss  Instances       Size\n"
     ]
    },
    {
     "name": "stderr",
     "output_type": "stream",
     "text": [
      "      43/70      3.45G      1.143     0.7659      1.465          6        640: 100%|██████████| 85/85 [00:30<00:00,  2.\n",
      "                 Class     Images  Instances      Box(P          R      mAP50  mAP50-95): 100%|██████████| 49/49 [00:29"
     ]
    },
    {
     "name": "stdout",
     "output_type": "stream",
     "text": [
      "                   all       1539       1771      0.014      0.165     0.0111    0.00726\n"
     ]
    },
    {
     "name": "stderr",
     "output_type": "stream",
     "text": [
      "\n"
     ]
    },
    {
     "name": "stdout",
     "output_type": "stream",
     "text": [
      "\n",
      "      Epoch    GPU_mem   box_loss   cls_loss   dfl_loss  Instances       Size\n"
     ]
    },
    {
     "name": "stderr",
     "output_type": "stream",
     "text": [
      "      44/70      3.74G      1.138     0.7798      1.461          4        640: 100%|██████████| 85/85 [00:29<00:00,  2.\n",
      "                 Class     Images  Instances      Box(P          R      mAP50  mAP50-95): 100%|██████████| 49/49 [00:29"
     ]
    },
    {
     "name": "stdout",
     "output_type": "stream",
     "text": [
      "                   all       1539       1771     0.0124      0.134    0.00905    0.00599\n"
     ]
    },
    {
     "name": "stderr",
     "output_type": "stream",
     "text": [
      "\n"
     ]
    },
    {
     "name": "stdout",
     "output_type": "stream",
     "text": [
      "\n",
      "      Epoch    GPU_mem   box_loss   cls_loss   dfl_loss  Instances       Size\n"
     ]
    },
    {
     "name": "stderr",
     "output_type": "stream",
     "text": [
      "      45/70      3.79G      1.155     0.7415      1.448          5        640: 100%|██████████| 85/85 [00:30<00:00,  2.\n",
      "                 Class     Images  Instances      Box(P          R      mAP50  mAP50-95): 100%|██████████| 49/49 [00:29"
     ]
    },
    {
     "name": "stdout",
     "output_type": "stream",
     "text": [
      "                   all       1539       1771     0.0143      0.132    0.00911    0.00615\n"
     ]
    },
    {
     "name": "stderr",
     "output_type": "stream",
     "text": [
      "\n"
     ]
    },
    {
     "name": "stdout",
     "output_type": "stream",
     "text": [
      "\n",
      "      Epoch    GPU_mem   box_loss   cls_loss   dfl_loss  Instances       Size\n"
     ]
    },
    {
     "name": "stderr",
     "output_type": "stream",
     "text": [
      "      46/70      3.45G       1.13     0.7574       1.45          3        640: 100%|██████████| 85/85 [00:29<00:00,  2.\n",
      "                 Class     Images  Instances      Box(P          R      mAP50  mAP50-95): 100%|██████████| 49/49 [00:29"
     ]
    },
    {
     "name": "stdout",
     "output_type": "stream",
     "text": [
      "                   all       1539       1771     0.0221      0.135     0.0149    0.00961\n"
     ]
    },
    {
     "name": "stderr",
     "output_type": "stream",
     "text": [
      "\n"
     ]
    },
    {
     "name": "stdout",
     "output_type": "stream",
     "text": [
      "\n",
      "      Epoch    GPU_mem   box_loss   cls_loss   dfl_loss  Instances       Size\n"
     ]
    },
    {
     "name": "stderr",
     "output_type": "stream",
     "text": [
      "      47/70      3.45G       1.14     0.7533      1.467          5        640: 100%|██████████| 85/85 [00:30<00:00,  2.\n",
      "                 Class     Images  Instances      Box(P          R      mAP50  mAP50-95): 100%|██████████| 49/49 [00:29"
     ]
    },
    {
     "name": "stdout",
     "output_type": "stream",
     "text": [
      "                   all       1539       1771     0.0107       0.12    0.00676    0.00433\n"
     ]
    },
    {
     "name": "stderr",
     "output_type": "stream",
     "text": [
      "\n"
     ]
    },
    {
     "name": "stdout",
     "output_type": "stream",
     "text": [
      "\n",
      "      Epoch    GPU_mem   box_loss   cls_loss   dfl_loss  Instances       Size\n"
     ]
    },
    {
     "name": "stderr",
     "output_type": "stream",
     "text": [
      "      48/70      3.75G      1.099     0.7152      1.412          8        640: 100%|██████████| 85/85 [00:30<00:00,  2.\n",
      "                 Class     Images  Instances      Box(P          R      mAP50  mAP50-95): 100%|██████████| 49/49 [00:29"
     ]
    },
    {
     "name": "stdout",
     "output_type": "stream",
     "text": [
      "                   all       1539       1771      0.016     0.0999     0.0102    0.00705\n"
     ]
    },
    {
     "name": "stderr",
     "output_type": "stream",
     "text": [
      "\n"
     ]
    },
    {
     "name": "stdout",
     "output_type": "stream",
     "text": [
      "\n",
      "      Epoch    GPU_mem   box_loss   cls_loss   dfl_loss  Instances       Size\n"
     ]
    },
    {
     "name": "stderr",
     "output_type": "stream",
     "text": [
      "      49/70       3.8G      1.082     0.7246        1.4          2        640: 100%|██████████| 85/85 [00:29<00:00,  2.\n",
      "                 Class     Images  Instances      Box(P          R      mAP50  mAP50-95): 100%|██████████| 49/49 [00:29"
     ]
    },
    {
     "name": "stdout",
     "output_type": "stream",
     "text": [
      "                   all       1539       1771     0.0159      0.101     0.0107    0.00737\n"
     ]
    },
    {
     "name": "stderr",
     "output_type": "stream",
     "text": [
      "\n"
     ]
    },
    {
     "name": "stdout",
     "output_type": "stream",
     "text": [
      "\n",
      "      Epoch    GPU_mem   box_loss   cls_loss   dfl_loss  Instances       Size\n"
     ]
    },
    {
     "name": "stderr",
     "output_type": "stream",
     "text": [
      "      50/70      3.47G      1.063     0.6736      1.402          6        640: 100%|██████████| 85/85 [00:29<00:00,  2.\n",
      "                 Class     Images  Instances      Box(P          R      mAP50  mAP50-95): 100%|██████████| 49/49 [00:30"
     ]
    },
    {
     "name": "stdout",
     "output_type": "stream",
     "text": [
      "                   all       1539       1771     0.0177      0.134     0.0121     0.0085\n"
     ]
    },
    {
     "name": "stderr",
     "output_type": "stream",
     "text": [
      "\n"
     ]
    },
    {
     "name": "stdout",
     "output_type": "stream",
     "text": [
      "\n",
      "      Epoch    GPU_mem   box_loss   cls_loss   dfl_loss  Instances       Size\n"
     ]
    },
    {
     "name": "stderr",
     "output_type": "stream",
     "text": [
      "      51/70      3.45G      1.079     0.7023      1.434          3        640: 100%|██████████| 85/85 [00:29<00:00,  2.\n",
      "                 Class     Images  Instances      Box(P          R      mAP50  mAP50-95): 100%|██████████| 49/49 [00:29"
     ]
    },
    {
     "name": "stdout",
     "output_type": "stream",
     "text": [
      "                   all       1539       1771     0.0164      0.119     0.0107     0.0068\n"
     ]
    },
    {
     "name": "stderr",
     "output_type": "stream",
     "text": [
      "\n"
     ]
    },
    {
     "name": "stdout",
     "output_type": "stream",
     "text": [
      "\n",
      "      Epoch    GPU_mem   box_loss   cls_loss   dfl_loss  Instances       Size\n"
     ]
    },
    {
     "name": "stderr",
     "output_type": "stream",
     "text": [
      "      52/70      3.81G       1.05     0.6625      1.382          5        640: 100%|██████████| 85/85 [00:29<00:00,  2.\n",
      "                 Class     Images  Instances      Box(P          R      mAP50  mAP50-95): 100%|██████████| 49/49 [00:29"
     ]
    },
    {
     "name": "stdout",
     "output_type": "stream",
     "text": [
      "                   all       1539       1771     0.0216      0.129      0.015     0.0101\n"
     ]
    },
    {
     "name": "stderr",
     "output_type": "stream",
     "text": [
      "\n"
     ]
    },
    {
     "name": "stdout",
     "output_type": "stream",
     "text": [
      "\n",
      "      Epoch    GPU_mem   box_loss   cls_loss   dfl_loss  Instances       Size\n"
     ]
    },
    {
     "name": "stderr",
     "output_type": "stream",
     "text": [
      "      53/70      3.85G      1.052     0.6607      1.377          6        640: 100%|██████████| 85/85 [00:29<00:00,  2.\n",
      "                 Class     Images  Instances      Box(P          R      mAP50  mAP50-95): 100%|██████████| 49/49 [00:29"
     ]
    },
    {
     "name": "stdout",
     "output_type": "stream",
     "text": [
      "                   all       1539       1771     0.0187      0.157     0.0139    0.00968\n"
     ]
    },
    {
     "name": "stderr",
     "output_type": "stream",
     "text": [
      "\n"
     ]
    },
    {
     "name": "stdout",
     "output_type": "stream",
     "text": [
      "\n",
      "      Epoch    GPU_mem   box_loss   cls_loss   dfl_loss  Instances       Size\n"
     ]
    },
    {
     "name": "stderr",
     "output_type": "stream",
     "text": [
      "      54/70      3.45G       1.05     0.6815      1.391          3        640: 100%|██████████| 85/85 [00:29<00:00,  2.\n",
      "                 Class     Images  Instances      Box(P          R      mAP50  mAP50-95): 100%|██████████| 49/49 [00:29"
     ]
    },
    {
     "name": "stdout",
     "output_type": "stream",
     "text": [
      "                   all       1539       1771     0.0201      0.106     0.0154     0.0111\n"
     ]
    },
    {
     "name": "stderr",
     "output_type": "stream",
     "text": [
      "\n"
     ]
    },
    {
     "name": "stdout",
     "output_type": "stream",
     "text": [
      "\n",
      "      Epoch    GPU_mem   box_loss   cls_loss   dfl_loss  Instances       Size\n"
     ]
    },
    {
     "name": "stderr",
     "output_type": "stream",
     "text": [
      "      55/70      3.45G      1.024     0.6795      1.381          3        640: 100%|██████████| 85/85 [00:30<00:00,  2.\n",
      "                 Class     Images  Instances      Box(P          R      mAP50  mAP50-95): 100%|██████████| 49/49 [00:29"
     ]
    },
    {
     "name": "stdout",
     "output_type": "stream",
     "text": [
      "                   all       1539       1771     0.0189      0.116     0.0126    0.00875\n"
     ]
    },
    {
     "name": "stderr",
     "output_type": "stream",
     "text": [
      "\n"
     ]
    },
    {
     "name": "stdout",
     "output_type": "stream",
     "text": [
      "\n",
      "      Epoch    GPU_mem   box_loss   cls_loss   dfl_loss  Instances       Size\n"
     ]
    },
    {
     "name": "stderr",
     "output_type": "stream",
     "text": [
      "      56/70      3.81G      1.036      0.675      1.379          5        640: 100%|██████████| 85/85 [00:29<00:00,  2.\n",
      "                 Class     Images  Instances      Box(P          R      mAP50  mAP50-95): 100%|██████████| 49/49 [00:29"
     ]
    },
    {
     "name": "stdout",
     "output_type": "stream",
     "text": [
      "                   all       1539       1771     0.0129      0.103    0.00832    0.00567\n"
     ]
    },
    {
     "name": "stderr",
     "output_type": "stream",
     "text": [
      "\n"
     ]
    },
    {
     "name": "stdout",
     "output_type": "stream",
     "text": [
      "\n",
      "      Epoch    GPU_mem   box_loss   cls_loss   dfl_loss  Instances       Size\n"
     ]
    },
    {
     "name": "stderr",
     "output_type": "stream",
     "text": [
      "      57/70      3.79G      1.016     0.6474      1.372          4        640: 100%|██████████| 85/85 [00:29<00:00,  2.\n",
      "                 Class     Images  Instances      Box(P          R      mAP50  mAP50-95): 100%|██████████| 49/49 [00:29"
     ]
    },
    {
     "name": "stdout",
     "output_type": "stream",
     "text": [
      "                   all       1539       1771      0.017      0.116     0.0112    0.00794\n"
     ]
    },
    {
     "name": "stderr",
     "output_type": "stream",
     "text": [
      "\n"
     ]
    },
    {
     "name": "stdout",
     "output_type": "stream",
     "text": [
      "\n",
      "      Epoch    GPU_mem   box_loss   cls_loss   dfl_loss  Instances       Size\n"
     ]
    },
    {
     "name": "stderr",
     "output_type": "stream",
     "text": [
      "      58/70      3.45G      1.011     0.6614      1.342          5        640: 100%|██████████| 85/85 [00:29<00:00,  2.\n",
      "                 Class     Images  Instances      Box(P          R      mAP50  mAP50-95): 100%|██████████| 49/49 [00:29"
     ]
    },
    {
     "name": "stdout",
     "output_type": "stream",
     "text": [
      "                   all       1539       1771    0.00916     0.0752    0.00668     0.0046\n"
     ]
    },
    {
     "name": "stderr",
     "output_type": "stream",
     "text": [
      "\n"
     ]
    },
    {
     "name": "stdout",
     "output_type": "stream",
     "text": [
      "\n",
      "      Epoch    GPU_mem   box_loss   cls_loss   dfl_loss  Instances       Size\n"
     ]
    },
    {
     "name": "stderr",
     "output_type": "stream",
     "text": [
      "      59/70      3.46G      0.995     0.6304      1.333          7        640: 100%|██████████| 85/85 [00:30<00:00,  2.\n",
      "                 Class     Images  Instances      Box(P          R      mAP50  mAP50-95): 100%|██████████| 49/49 [00:29"
     ]
    },
    {
     "name": "stdout",
     "output_type": "stream",
     "text": [
      "                   all       1539       1771     0.0157     0.0807    0.00979    0.00654\n"
     ]
    },
    {
     "name": "stderr",
     "output_type": "stream",
     "text": [
      "\n"
     ]
    },
    {
     "name": "stdout",
     "output_type": "stream",
     "text": [
      "\n",
      "      Epoch    GPU_mem   box_loss   cls_loss   dfl_loss  Instances       Size\n"
     ]
    },
    {
     "name": "stderr",
     "output_type": "stream",
     "text": [
      "      60/70      3.75G      1.002     0.6498      1.331         10        640: 100%|██████████| 85/85 [00:29<00:00,  2.\n",
      "                 Class     Images  Instances      Box(P          R      mAP50  mAP50-95): 100%|██████████| 49/49 [00:29"
     ]
    },
    {
     "name": "stdout",
     "output_type": "stream",
     "text": [
      "                   all       1539       1771      0.011     0.0723    0.00727     0.0047\n"
     ]
    },
    {
     "name": "stderr",
     "output_type": "stream",
     "text": [
      "\n"
     ]
    },
    {
     "name": "stdout",
     "output_type": "stream",
     "text": [
      "Closing dataloader mosaic\n",
      "\n",
      "      Epoch    GPU_mem   box_loss   cls_loss   dfl_loss  Instances       Size\n"
     ]
    },
    {
     "name": "stderr",
     "output_type": "stream",
     "text": [
      "      61/70      3.79G     0.9606     0.5265      1.416          3        640: 100%|██████████| 85/85 [00:30<00:00,  2.\n",
      "                 Class     Images  Instances      Box(P          R      mAP50  mAP50-95): 100%|██████████| 49/49 [00:27"
     ]
    },
    {
     "name": "stdout",
     "output_type": "stream",
     "text": [
      "                   all       1539       1771     0.0155     0.0865    0.00968    0.00675\n"
     ]
    },
    {
     "name": "stderr",
     "output_type": "stream",
     "text": [
      "\n"
     ]
    },
    {
     "name": "stdout",
     "output_type": "stream",
     "text": [
      "\n",
      "      Epoch    GPU_mem   box_loss   cls_loss   dfl_loss  Instances       Size\n"
     ]
    },
    {
     "name": "stderr",
     "output_type": "stream",
     "text": [
      "      62/70      3.46G     0.9418     0.5101      1.416          3        640: 100%|██████████| 85/85 [00:29<00:00,  2.\n",
      "                 Class     Images  Instances      Box(P          R      mAP50  mAP50-95): 100%|██████████| 49/49 [00:30"
     ]
    },
    {
     "name": "stdout",
     "output_type": "stream",
     "text": [
      "                   all       1539       1771     0.0122     0.0665    0.00729    0.00519\n"
     ]
    },
    {
     "name": "stderr",
     "output_type": "stream",
     "text": [
      "\n"
     ]
    },
    {
     "name": "stdout",
     "output_type": "stream",
     "text": [
      "\n",
      "      Epoch    GPU_mem   box_loss   cls_loss   dfl_loss  Instances       Size\n"
     ]
    },
    {
     "name": "stderr",
     "output_type": "stream",
     "text": [
      "      63/70      3.78G     0.9086     0.5014      1.385          3        640: 100%|██████████| 85/85 [00:29<00:00,  2.\n",
      "                 Class     Images  Instances      Box(P          R      mAP50  mAP50-95): 100%|██████████| 49/49 [00:29"
     ]
    },
    {
     "name": "stdout",
     "output_type": "stream",
     "text": [
      "                   all       1539       1771     0.0147     0.0705    0.00888    0.00611\n"
     ]
    },
    {
     "name": "stderr",
     "output_type": "stream",
     "text": [
      "\n"
     ]
    },
    {
     "name": "stdout",
     "output_type": "stream",
     "text": [
      "\n",
      "      Epoch    GPU_mem   box_loss   cls_loss   dfl_loss  Instances       Size\n"
     ]
    },
    {
     "name": "stderr",
     "output_type": "stream",
     "text": [
      "      64/70      3.75G      0.916     0.4829      1.396          3        640: 100%|██████████| 85/85 [00:29<00:00,  2.\n",
      "                 Class     Images  Instances      Box(P          R      mAP50  mAP50-95): 100%|██████████| 49/49 [00:29"
     ]
    },
    {
     "name": "stdout",
     "output_type": "stream",
     "text": [
      "                   all       1539       1771     0.0133     0.0796    0.00804     0.0058\n"
     ]
    },
    {
     "name": "stderr",
     "output_type": "stream",
     "text": [
      "\n"
     ]
    },
    {
     "name": "stdout",
     "output_type": "stream",
     "text": [
      "\n",
      "      Epoch    GPU_mem   box_loss   cls_loss   dfl_loss  Instances       Size\n"
     ]
    },
    {
     "name": "stderr",
     "output_type": "stream",
     "text": [
      "      65/70      3.79G     0.9041     0.4837      1.376          5        640: 100%|██████████| 85/85 [00:29<00:00,  2.\n",
      "                 Class     Images  Instances      Box(P          R      mAP50  mAP50-95): 100%|██████████| 49/49 [00:29"
     ]
    },
    {
     "name": "stdout",
     "output_type": "stream",
     "text": [
      "                   all       1539       1771     0.0146     0.0715    0.00897    0.00613\n"
     ]
    },
    {
     "name": "stderr",
     "output_type": "stream",
     "text": [
      "\n"
     ]
    },
    {
     "name": "stdout",
     "output_type": "stream",
     "text": [
      "\n",
      "      Epoch    GPU_mem   box_loss   cls_loss   dfl_loss  Instances       Size\n"
     ]
    },
    {
     "name": "stderr",
     "output_type": "stream",
     "text": [
      "      66/70      3.78G     0.8799     0.4706      1.342          5        640: 100%|██████████| 85/85 [00:29<00:00,  2.\n",
      "                 Class     Images  Instances      Box(P          R      mAP50  mAP50-95): 100%|██████████| 49/49 [00:29"
     ]
    },
    {
     "name": "stdout",
     "output_type": "stream",
     "text": [
      "                   all       1539       1771     0.0145     0.0796    0.00913    0.00665\n"
     ]
    },
    {
     "name": "stderr",
     "output_type": "stream",
     "text": [
      "\n"
     ]
    },
    {
     "name": "stdout",
     "output_type": "stream",
     "text": [
      "\n",
      "      Epoch    GPU_mem   box_loss   cls_loss   dfl_loss  Instances       Size\n"
     ]
    },
    {
     "name": "stderr",
     "output_type": "stream",
     "text": [
      "      67/70      3.46G      0.892     0.4664      1.356          4        640: 100%|██████████| 85/85 [00:29<00:00,  2.\n",
      "                 Class     Images  Instances      Box(P          R      mAP50  mAP50-95): 100%|██████████| 49/49 [00:29"
     ]
    },
    {
     "name": "stdout",
     "output_type": "stream",
     "text": [
      "                   all       1539       1771     0.0156     0.0812     0.0101    0.00727\n"
     ]
    },
    {
     "name": "stderr",
     "output_type": "stream",
     "text": [
      "\n"
     ]
    },
    {
     "name": "stdout",
     "output_type": "stream",
     "text": [
      "\n",
      "      Epoch    GPU_mem   box_loss   cls_loss   dfl_loss  Instances       Size\n"
     ]
    },
    {
     "name": "stderr",
     "output_type": "stream",
     "text": [
      "      68/70      3.81G     0.8737      0.455      1.334          4        640: 100%|██████████| 85/85 [00:29<00:00,  2.\n",
      "                 Class     Images  Instances      Box(P          R      mAP50  mAP50-95): 100%|██████████| 49/49 [00:29"
     ]
    },
    {
     "name": "stdout",
     "output_type": "stream",
     "text": [
      "                   all       1539       1771     0.0149     0.0685    0.00963    0.00706\n"
     ]
    },
    {
     "name": "stderr",
     "output_type": "stream",
     "text": [
      "\n"
     ]
    },
    {
     "name": "stdout",
     "output_type": "stream",
     "text": [
      "\n",
      "      Epoch    GPU_mem   box_loss   cls_loss   dfl_loss  Instances       Size\n"
     ]
    },
    {
     "name": "stderr",
     "output_type": "stream",
     "text": [
      "      69/70      3.79G     0.8623     0.4618      1.331          3        640: 100%|██████████| 85/85 [00:29<00:00,  2.\n",
      "                 Class     Images  Instances      Box(P          R      mAP50  mAP50-95): 100%|██████████| 49/49 [00:29"
     ]
    },
    {
     "name": "stdout",
     "output_type": "stream",
     "text": [
      "                   all       1539       1771     0.0158     0.0725     0.0101    0.00752\n"
     ]
    },
    {
     "name": "stderr",
     "output_type": "stream",
     "text": [
      "\n"
     ]
    },
    {
     "name": "stdout",
     "output_type": "stream",
     "text": [
      "\n",
      "      Epoch    GPU_mem   box_loss   cls_loss   dfl_loss  Instances       Size\n"
     ]
    },
    {
     "name": "stderr",
     "output_type": "stream",
     "text": [
      "      70/70      3.47G     0.8813     0.4666      1.337          4        640: 100%|██████████| 85/85 [00:29<00:00,  2.\n",
      "                 Class     Images  Instances      Box(P          R      mAP50  mAP50-95): 100%|██████████| 49/49 [00:29"
     ]
    },
    {
     "name": "stdout",
     "output_type": "stream",
     "text": [
      "                   all       1539       1771     0.0161      0.074     0.0103    0.00759\n"
     ]
    },
    {
     "name": "stderr",
     "output_type": "stream",
     "text": [
      "\n"
     ]
    },
    {
     "name": "stdout",
     "output_type": "stream",
     "text": [
      "\n",
      "70 epochs completed in 1.203 hours.\n",
      "Optimizer stripped from runs\\detect\\yolov11m_hbfmid_finetune_tentativo_freezeLayers_preloadModel2\\weights\\last.pt, 40.5MB\n",
      "Optimizer stripped from runs\\detect\\yolov11m_hbfmid_finetune_tentativo_freezeLayers_preloadModel2\\weights\\best.pt, 40.5MB\n",
      "\n",
      "Validating runs\\detect\\yolov11m_hbfmid_finetune_tentativo_freezeLayers_preloadModel2\\weights\\best.pt...\n",
      "Ultralytics 8.3.155  Python-3.13.2 torch-2.7.1+cu128 CUDA:0 (NVIDIA GeForce RTX 4060 Laptop GPU, 8188MiB)\n",
      "YOLO11m summary (fused): 125 layers, 20,037,742 parameters, 0 gradients, 67.7 GFLOPs\n"
     ]
    },
    {
     "name": "stderr",
     "output_type": "stream",
     "text": [
      "                 Class     Images  Instances      Box(P          R      mAP50  mAP50-95): 100%|██████████| 49/49 [00:29\n"
     ]
    },
    {
     "name": "stdout",
     "output_type": "stream",
     "text": [
      "                   all       1539       1771     0.0204      0.107     0.0156     0.0112\n",
      "  Transverse Displaced        639        718      0.029     0.0167     0.0147      0.012\n",
      "                Spiral         74         74          0          0          0          0\n",
      "     Oblique Displaced        382        389          0          0          0          0\n",
      "               Healthy         64         64          0          0          0          0\n",
      "             Segmental         21         21     0.0087      0.429     0.0064    0.00373\n",
      "            Comminuted        180        192          0          0          0          0\n",
      "               Oblique         57         57      0.144      0.456      0.123     0.0885\n",
      "            Transverse        124        142      0.012     0.0211    0.00621    0.00413\n",
      "            Greenstick         92         92     0.0094      0.152    0.00545    0.00374\n",
      "                Linear         22         22          0          0          0          0\n",
      "Speed: 0.2ms preprocess, 7.8ms inference, 0.0ms loss, 3.1ms postprocess per image\n",
      "Results saved to \u001b[1mruns\\detect\\yolov11m_hbfmid_finetune_tentativo_freezeLayers_preloadModel2\u001b[0m\n",
      "\n",
      "Fine-tuning completato!\n",
      "I risultati del training sono salvati in: runs\\detect\\yolov11m_hbfmid_finetune_tentativo_freezeLayers_preloadModel2\n"
     ]
    }
   ],
   "source": [
    "import os\n",
    "import torch\n",
    "import fiftyone as fo\n",
    "\n",
    "device = 'cuda' if torch.cuda.is_available() else 'cpu'\n",
    "print(f\"Utilizzando il dispositivo: {device}\")\n",
    "\n",
    "data_yaml_path = os.path.abspath(\"HBFMID_YOLO_Export/dataset.yaml\")\n",
    "\n",
    "def freeze_layer(trainer):\n",
    "    model = trainer.model\n",
    "    num_freeze = 10\n",
    "    print(f\"Freezing {num_freeze} layers\")\n",
    "    freeze = [f'model.{x}.' for x in range(num_freeze)]  \n",
    "    for k, v in model.named_parameters(): \n",
    "        v.requires_grad = True  \n",
    "        if any(x in k for x in freeze): \n",
    "            print(f'freezing {k}') \n",
    "            v.requires_grad = False \n",
    "    print(f\"{num_freeze} layers are freezed.\")\n",
    "\n",
    "\n",
    "model.add_callback(\"on_train_start\", freeze_layer)\n",
    "\n",
    "results = model.train(\n",
    "    data=data_yaml_path,\n",
    "    epochs=70,      \n",
    "    imgsz=640, \n",
    "    batch=16,\n",
    "    name='yolov11m_hbfmid_finetune_tentativo_freezeLayers_preloadModel',\n",
    "    device=device,\n",
    "    lr0=0.0001, \n",
    "    lrf=0.01,\n",
    "    patience=100\n",
    ")\n",
    "\n",
    "print(\"\\nFine-tuning completato!\")\n",
    "print(f\"I risultati del training sono salvati in: {model.trainer.save_dir}\")"
   ]
  },
  {
   "cell_type": "code",
   "execution_count": null,
   "id": "87cbab12-b8df-4b69-a56e-9f440c13c293",
   "metadata": {},
   "outputs": [],
   "source": []
  }
 ],
 "metadata": {
  "kernelspec": {
   "display_name": "Python 3 (ipykernel)",
   "language": "python",
   "name": "python3"
  },
  "language_info": {
   "codemirror_mode": {
    "name": "ipython",
    "version": 3
   },
   "file_extension": ".py",
   "mimetype": "text/x-python",
   "name": "python",
   "nbconvert_exporter": "python",
   "pygments_lexer": "ipython3",
   "version": "3.13.2"
  }
 },
 "nbformat": 4,
 "nbformat_minor": 5
}
